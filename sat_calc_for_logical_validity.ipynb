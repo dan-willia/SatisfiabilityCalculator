{
 "cells": [
  {
   "cell_type": "markdown",
   "id": "f536e2a2-d023-40e1-966c-378c71235ad2",
   "metadata": {},
   "source": [
    "# Using sat_calc to determine logical validity\n",
    "\n",
    "This notebook is a short demonstration of how a satisfiability calculator can determine logical validity. \n",
    "\n",
    "I use my own calculator, called ```sat_calc```, which can be found on [GitHub](https://github.com/dan-willia/SatisfiabilityCalculator).\n",
    "\n",
    "## The argument\n",
    "\n",
    "There is a well-known argument in a [logic textbook](https://archive.org/details/logictechniqueof0000unse/mode/2up) that goes like this:\n",
    "\n",
    "> \"If Superman were able and willing to prevent evil, he would do so. If Superman were unable to prevent evil, he would be impotent; if he were unwilling to prevent evil, he would be malevolent. Superman does not prevent evil. If Superman exists, he is neither impotent nor malevolent. Therefore, Superman does not exist.\"\n",
    "\n",
    "Is this argument valid? Hard to say. Traditionally we would represent this in the propositional calculus and then use rules of inference to try to derive the conclusion. We will still do the first part, but instead of using rules of inference, we will use ```sat_calc``` to determine if the argument is valid."
   ]
  },
  {
   "cell_type": "markdown",
   "id": "5f8958b0-32a2-4330-a32f-acde047ddc11",
   "metadata": {},
   "source": [
    "## Why does this work?\n",
    "\n",
    "We can use a satisfiability calculator to determine if an argument is valid. Why? An argument is valid iff it is impossible for all the premises to be true and the conclusion to be false. It follows from this that the implication of the conjunction of the premises and the conclusion must be a tautology.\n",
    "\n",
    "Consider a simple argument:\n",
    "\n",
    "P1. *p* <br/>\n",
    "P2. *p* -> *q* <br/>\n",
    "C. *q*\n",
    "\n",
    "We conjoin the premises and imply the conclusion:\n",
    "*p* ^ (*p* -> *q*) -> *q*\n",
    "\n",
    "An implication is false in only one case: when the antecedent is true but the conclusion false. So if the premises are all true, yet *q* is false, then the implication comes out false, and we don't get a tautology.\n",
    "\n",
    "This makes sense since if your premises are true but your conclusion is false, we wouldn't say your argument is valid!\n",
    "\n",
    "A satisfiability calculator determines under what truth assignments a proposition is true. If every possible truth assignment makes the proposition true, then the proposition is a tautology."
   ]
  },
  {
   "cell_type": "markdown",
   "id": "1907769c-eef0-49c9-b014-9be71e5ffdbc",
   "metadata": {},
   "source": [
    "## Logical form\n",
    "\n",
    "First, let's write the logical form of the argument. \n",
    "\n",
    "We define the following variables.\n",
    "\n",
    "Let *a* be the statement 'Superman is able to prevent evil'. <br/>\n",
    "Let *w* be the statement 'Superman is willing to prevent evil'. <br/>\n",
    "Let *i* be the statement 'Superman is impotent'. <br/>\n",
    "Let *m* be the statement 'Superman is malevolent'. <br/>\n",
    "Let *p* be the statement 'Superman prevents evil'. <br/>\n",
    "Let *e* be the statement 'Superman exists'. <br/>\n",
    "\n",
    "The conclusion to the Superman argument, then, is ~*e*. \n",
    "\n",
    "Let's write the premises.\n",
    "\n",
    "P1. *a* ^ *w* -> *p* <br/>\n",
    "P2. ~*a* -> *i* <br/>\n",
    "P3. ~*w* -> *m* <br/>\n",
    "P4. ~*p* <br/>\n",
    "P5. *e* -> ~(*i* v *m*) <br/>\n",
    "\n",
    "Convince yourself that these represent the premises in the argument.\n",
    "\n",
    "Now traditionally we would apply rules of inference to the premises and try to derive the conclusion. But then we wouldn't be able to show off ```sat_calc```, so we're not going to do that. \n",
    "\n",
    "Instead, we construct the whole argument as a conjunction of the premises implying the conclusion, like so:\n",
    "\n",
    "(*a* ^ *w* -> *p*) ^ (*~a* -> *i*) ^ (~*w* -> *m*) ^ ~*p* ^ (*e* -> ~(*i* v *m*)) -> ~*e*"
   ]
  },
  {
   "cell_type": "markdown",
   "id": "fe115a94-0b97-4b8e-b396-f3d995595bd5",
   "metadata": {},
   "source": [
    "## Using sat_calc\n",
    "\n",
    "We can give this expression to ```sat_calc``` to determine if it is a tautology, and thus a valid argument. "
   ]
  },
  {
   "cell_type": "code",
   "execution_count": 1,
   "id": "16ba0880-3a86-4484-8456-bd3ca131d06c",
   "metadata": {},
   "outputs": [],
   "source": [
    "from sat_calc import *"
   ]
  },
  {
   "cell_type": "markdown",
   "id": "168ff468-0ef1-4a94-8acd-5d0b3dae767d",
   "metadata": {},
   "source": [
    "Let's also import the pandas library to display the truth table in a format that is easier to read."
   ]
  },
  {
   "cell_type": "code",
   "execution_count": 2,
   "id": "b4a3c2e6-7f3f-4d94-a0ee-3b3180fac73a",
   "metadata": {},
   "outputs": [],
   "source": [
    "import pandas as pd"
   ]
  },
  {
   "cell_type": "markdown",
   "id": "71509aa7-cb33-4849-a7a8-46981b8ed5d9",
   "metadata": {},
   "source": [
    "```sat_calc``` requires the proposition as well as a list of the variables in the proposition."
   ]
  },
  {
   "cell_type": "code",
   "execution_count": 7,
   "id": "fb77fc27-7f83-41d2-b975-57a8e648fbc3",
   "metadata": {},
   "outputs": [],
   "source": [
    "input_str = \"(a ^ w -> p) ^ (~a -> i) ^ (~w -> m) ^ ~p ^ (e -> ~(i v m)) -> ~e\"\n",
    "vars = ['a', 'w', 'i', 'm', 'p', 'e']"
   ]
  },
  {
   "cell_type": "markdown",
   "id": "b7a01d1b-9af2-4107-83ec-14d9c2979eeb",
   "metadata": {},
   "source": [
    "We create a truth table from the variables and the proposition and display it as a DataFrame."
   ]
  },
  {
   "cell_type": "code",
   "execution_count": 6,
   "id": "94000697-8d54-4ef4-9901-55da0408dea5",
   "metadata": {},
   "outputs": [
    {
     "data": {
      "text/html": [
       "<div>\n",
       "<style scoped>\n",
       "    .dataframe tbody tr th:only-of-type {\n",
       "        vertical-align: middle;\n",
       "    }\n",
       "\n",
       "    .dataframe tbody tr th {\n",
       "        vertical-align: top;\n",
       "    }\n",
       "\n",
       "    .dataframe thead th {\n",
       "        text-align: right;\n",
       "    }\n",
       "</style>\n",
       "<table border=\"1\" class=\"dataframe\">\n",
       "  <thead>\n",
       "    <tr style=\"text-align: right;\">\n",
       "      <th></th>\n",
       "      <th>a</th>\n",
       "      <th>w</th>\n",
       "      <th>i</th>\n",
       "      <th>m</th>\n",
       "      <th>p</th>\n",
       "      <th>e</th>\n",
       "      <th>(a ^ w -&gt; p) ^ (~a -&gt; i) ^ (~w -&gt; m) ^ ~p ^ (e -&gt; ~(i v m)) -&gt; ~e</th>\n",
       "    </tr>\n",
       "  </thead>\n",
       "  <tbody>\n",
       "    <tr>\n",
       "      <th>0</th>\n",
       "      <td>True</td>\n",
       "      <td>True</td>\n",
       "      <td>True</td>\n",
       "      <td>True</td>\n",
       "      <td>True</td>\n",
       "      <td>True</td>\n",
       "      <td></td>\n",
       "    </tr>\n",
       "    <tr>\n",
       "      <th>1</th>\n",
       "      <td>True</td>\n",
       "      <td>True</td>\n",
       "      <td>True</td>\n",
       "      <td>True</td>\n",
       "      <td>True</td>\n",
       "      <td>False</td>\n",
       "      <td></td>\n",
       "    </tr>\n",
       "    <tr>\n",
       "      <th>2</th>\n",
       "      <td>True</td>\n",
       "      <td>True</td>\n",
       "      <td>True</td>\n",
       "      <td>True</td>\n",
       "      <td>False</td>\n",
       "      <td>True</td>\n",
       "      <td></td>\n",
       "    </tr>\n",
       "    <tr>\n",
       "      <th>3</th>\n",
       "      <td>True</td>\n",
       "      <td>True</td>\n",
       "      <td>True</td>\n",
       "      <td>True</td>\n",
       "      <td>False</td>\n",
       "      <td>False</td>\n",
       "      <td></td>\n",
       "    </tr>\n",
       "    <tr>\n",
       "      <th>4</th>\n",
       "      <td>True</td>\n",
       "      <td>True</td>\n",
       "      <td>True</td>\n",
       "      <td>False</td>\n",
       "      <td>True</td>\n",
       "      <td>True</td>\n",
       "      <td></td>\n",
       "    </tr>\n",
       "  </tbody>\n",
       "</table>\n",
       "</div>"
      ],
      "text/plain": [
       "      a     w     i      m      p      e  \\\n",
       "0  True  True  True   True   True   True   \n",
       "1  True  True  True   True   True  False   \n",
       "2  True  True  True   True  False   True   \n",
       "3  True  True  True   True  False  False   \n",
       "4  True  True  True  False   True   True   \n",
       "\n",
       "  (a ^ w -> p) ^ (~a -> i) ^ (~w -> m) ^ ~p ^ (e -> ~(i v m)) -> ~e  \n",
       "0                                                                    \n",
       "1                                                                    \n",
       "2                                                                    \n",
       "3                                                                    \n",
       "4                                                                    "
      ]
     },
     "execution_count": 6,
     "metadata": {},
     "output_type": "execute_result"
    }
   ],
   "source": [
    "tt = create_tt(vars)\n",
    "tt_df = pd.DataFrame(tt)\n",
    "tt_df[input_str] = ''\n",
    "tt_df.head()"
   ]
  },
  {
   "cell_type": "markdown",
   "id": "48a0fbc3-0c8f-4585-af6d-abc9055907c7",
   "metadata": {},
   "source": [
    "Next we evaluate the proposition for each row of the truth table."
   ]
  },
  {
   "cell_type": "code",
   "execution_count": 8,
   "id": "70674750-227c-4b39-87ee-de01d8e2640c",
   "metadata": {},
   "outputs": [
    {
     "data": {
      "text/html": [
       "<div>\n",
       "<style scoped>\n",
       "    .dataframe tbody tr th:only-of-type {\n",
       "        vertical-align: middle;\n",
       "    }\n",
       "\n",
       "    .dataframe tbody tr th {\n",
       "        vertical-align: top;\n",
       "    }\n",
       "\n",
       "    .dataframe thead th {\n",
       "        text-align: right;\n",
       "    }\n",
       "</style>\n",
       "<table border=\"1\" class=\"dataframe\">\n",
       "  <thead>\n",
       "    <tr style=\"text-align: right;\">\n",
       "      <th></th>\n",
       "      <th>a</th>\n",
       "      <th>w</th>\n",
       "      <th>i</th>\n",
       "      <th>m</th>\n",
       "      <th>p</th>\n",
       "      <th>e</th>\n",
       "      <th>(a ^ w -&gt; p) ^ (~a -&gt; i) ^ (~w -&gt; m) ^ ~p ^ (e -&gt; ~(i v m)) -&gt; ~e</th>\n",
       "    </tr>\n",
       "  </thead>\n",
       "  <tbody>\n",
       "    <tr>\n",
       "      <th>0</th>\n",
       "      <td>True</td>\n",
       "      <td>True</td>\n",
       "      <td>True</td>\n",
       "      <td>True</td>\n",
       "      <td>True</td>\n",
       "      <td>True</td>\n",
       "      <td>True</td>\n",
       "    </tr>\n",
       "    <tr>\n",
       "      <th>1</th>\n",
       "      <td>True</td>\n",
       "      <td>True</td>\n",
       "      <td>True</td>\n",
       "      <td>True</td>\n",
       "      <td>True</td>\n",
       "      <td>False</td>\n",
       "      <td>True</td>\n",
       "    </tr>\n",
       "    <tr>\n",
       "      <th>2</th>\n",
       "      <td>True</td>\n",
       "      <td>True</td>\n",
       "      <td>True</td>\n",
       "      <td>True</td>\n",
       "      <td>False</td>\n",
       "      <td>True</td>\n",
       "      <td>True</td>\n",
       "    </tr>\n",
       "    <tr>\n",
       "      <th>3</th>\n",
       "      <td>True</td>\n",
       "      <td>True</td>\n",
       "      <td>True</td>\n",
       "      <td>True</td>\n",
       "      <td>False</td>\n",
       "      <td>False</td>\n",
       "      <td>True</td>\n",
       "    </tr>\n",
       "    <tr>\n",
       "      <th>4</th>\n",
       "      <td>True</td>\n",
       "      <td>True</td>\n",
       "      <td>True</td>\n",
       "      <td>False</td>\n",
       "      <td>True</td>\n",
       "      <td>True</td>\n",
       "      <td>True</td>\n",
       "    </tr>\n",
       "  </tbody>\n",
       "</table>\n",
       "</div>"
      ],
      "text/plain": [
       "      a     w     i      m      p      e  \\\n",
       "0  True  True  True   True   True   True   \n",
       "1  True  True  True   True   True  False   \n",
       "2  True  True  True   True  False   True   \n",
       "3  True  True  True   True  False  False   \n",
       "4  True  True  True  False   True   True   \n",
       "\n",
       "  (a ^ w -> p) ^ (~a -> i) ^ (~w -> m) ^ ~p ^ (e -> ~(i v m)) -> ~e  \n",
       "0                                               True                 \n",
       "1                                               True                 \n",
       "2                                               True                 \n",
       "3                                               True                 \n",
       "4                                               True                 "
      ]
     },
     "execution_count": 8,
     "metadata": {},
     "output_type": "execute_result"
    }
   ],
   "source": [
    "for i in range(len(tt)):\n",
    "    eval = evaluate(input_str, tt[i])\n",
    "    tt_df.loc[i,input_str]= eval\n",
    "tt_df.head()"
   ]
  },
  {
   "cell_type": "markdown",
   "id": "7e6d8adf-013d-4b0f-bdb7-d24e88c59162",
   "metadata": {},
   "source": [
    "Let's examine the truth table."
   ]
  },
  {
   "cell_type": "code",
   "execution_count": 5,
   "id": "699b2866-4ee5-4159-b7b6-32368b81a19a",
   "metadata": {},
   "outputs": [
    {
     "name": "stdout",
     "output_type": "stream",
     "text": [
      "truth table has 64 rows\n",
      "64 rows of input_str are true\n",
      "0 rows of input_str are false\n"
     ]
    }
   ],
   "source": [
    "print(f\"truth table has {len(tt_df)} rows\")\n",
    "print(f\"{len(tt_df[tt_df[input_str] == True])} rows of input_str are true\")\n",
    "print(f\"{len(tt_df[tt_df[input_str] == False])} rows of input_str are false\")"
   ]
  },
  {
   "cell_type": "markdown",
   "id": "5ea15cd1-b869-491f-9102-ec41dec44082",
   "metadata": {},
   "source": [
    "## Conclusion\n",
    "\n",
    "So there we are. Every truth assignment for the expression is true, thus the statement is a tautology, and therefore the Superman argument is valid.\n",
    "\n",
    "Besides practicing our formal reasoning and showing off ```sat_calc```, what is the significance of the argument? I invite the reader to explore [The Problem of Evil](https://plato.stanford.edu/entries/evil/)."
   ]
  }
 ],
 "metadata": {
  "kernelspec": {
   "display_name": "Python 3 (ipykernel)",
   "language": "python",
   "name": "python3"
  },
  "language_info": {
   "codemirror_mode": {
    "name": "ipython",
    "version": 3
   },
   "file_extension": ".py",
   "mimetype": "text/x-python",
   "name": "python",
   "nbconvert_exporter": "python",
   "pygments_lexer": "ipython3",
   "version": "3.12.1"
  }
 },
 "nbformat": 4,
 "nbformat_minor": 5
}
